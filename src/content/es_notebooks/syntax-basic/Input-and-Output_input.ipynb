{
 "cells": [
  {
   "cell_type": "code",
   "execution_count": null,
   "id": "f4c22673",
   "metadata": {
    "vscode": {
     "languageId": "plaintext"
    }
   },
   "outputs": [],
   "source": [
    "# input()\n",
    "nombre = input('¿Cuál es tu nombre?')\n",
    "print('Hola, ' + nombre + '!')"
   ]
  }
 ],
 "metadata": {
  "language_info": {
   "name": "python"
  }
 },
 "nbformat": 4,
 "nbformat_minor": 5
}
